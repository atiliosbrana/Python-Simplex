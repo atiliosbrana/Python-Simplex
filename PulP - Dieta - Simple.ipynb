{
 "cells": [
  {
   "cell_type": "code",
   "execution_count": 1,
   "metadata": {},
   "outputs": [],
   "source": [
    "import pulp\n",
    "import pandas as pd\n",
    "import numpy as np"
   ]
  },
  {
   "cell_type": "code",
   "execution_count": 2,
   "metadata": {},
   "outputs": [],
   "source": [
    "#Definir o problema como minimização de uma função\n",
    "dieta = pulp.LpProblem('Dieta', pulp.LpMinimize)"
   ]
  },
  {
   "cell_type": "code",
   "execution_count": 3,
   "metadata": {},
   "outputs": [
    {
     "data": {
      "text/html": [
       "<div>\n",
       "<style scoped>\n",
       "    .dataframe tbody tr th:only-of-type {\n",
       "        vertical-align: middle;\n",
       "    }\n",
       "\n",
       "    .dataframe tbody tr th {\n",
       "        vertical-align: top;\n",
       "    }\n",
       "\n",
       "    .dataframe thead th {\n",
       "        text-align: right;\n",
       "    }\n",
       "</style>\n",
       "<table border=\"1\" class=\"dataframe\">\n",
       "  <thead>\n",
       "    <tr style=\"text-align: right;\">\n",
       "      <th></th>\n",
       "      <th>Grao 0</th>\n",
       "      <th>Grao 1</th>\n",
       "      <th>Grao 2</th>\n",
       "      <th>Qt_Min</th>\n",
       "    </tr>\n",
       "  </thead>\n",
       "  <tbody>\n",
       "    <tr>\n",
       "      <th>Nutr A</th>\n",
       "      <td>2</td>\n",
       "      <td>3</td>\n",
       "      <td>7</td>\n",
       "      <td>10</td>\n",
       "    </tr>\n",
       "    <tr>\n",
       "      <th>Nutr B</th>\n",
       "      <td>4</td>\n",
       "      <td>2</td>\n",
       "      <td>1</td>\n",
       "      <td>15</td>\n",
       "    </tr>\n",
       "    <tr>\n",
       "      <th>Nutr C</th>\n",
       "      <td>1</td>\n",
       "      <td>8</td>\n",
       "      <td>1</td>\n",
       "      <td>10</td>\n",
       "    </tr>\n",
       "    <tr>\n",
       "      <th>Nutr D</th>\n",
       "      <td>30</td>\n",
       "      <td>1</td>\n",
       "      <td>1</td>\n",
       "      <td>2</td>\n",
       "    </tr>\n",
       "    <tr>\n",
       "      <th>Cost/Kg</th>\n",
       "      <td>20</td>\n",
       "      <td>10</td>\n",
       "      <td>10</td>\n",
       "      <td></td>\n",
       "    </tr>\n",
       "  </tbody>\n",
       "</table>\n",
       "</div>"
      ],
      "text/plain": [
       "        Grao 0 Grao 1 Grao 2 Qt_Min\n",
       "Nutr A       2      3      7     10\n",
       "Nutr B       4      2      1     15\n",
       "Nutr C       1      8      1     10\n",
       "Nutr D      30      1      1      2\n",
       "Cost/Kg     20     10     10       "
      ]
     },
     "metadata": {},
     "output_type": "display_data"
    }
   ],
   "source": [
    "#Reconstruir a tabela do problema\n",
    "index = ['Nutr ' + i for i in 'ABCD'] + ['Cost/Kg']\n",
    "columns = ['Grao ' + str(i) for i in range(3)] + ['Qt_Min']\n",
    "matrix = np.array([[2, 3, 7, 10], [4, 2, 1, 15], [1, 8, 1, 10], [30, 1, 1, 2], [20, 10, 10, '']])\n",
    "table = pd.DataFrame(matrix, index = index, columns = columns)\n",
    "display(table)"
   ]
  },
  {
   "cell_type": "code",
   "execution_count": 4,
   "metadata": {},
   "outputs": [],
   "source": [
    "#Definir variáveis: quantidade de cada grão\n",
    "x0 = pulp.LpVariable('x0', lowBound=0, cat='Continuous')\n",
    "x1 = pulp.LpVariable('x1', lowBound=0, cat='Continuous')\n",
    "x2 = pulp.LpVariable('x2', lowBound=0, cat='Continuous')"
   ]
  },
  {
   "cell_type": "code",
   "execution_count": 5,
   "metadata": {},
   "outputs": [],
   "source": [
    "#Definir função objetivo\n",
    "dieta += 20 * x0 + 10 * x1 + 10 * x2\n",
    "\n",
    "#Definir restrições\n",
    "dieta += 2 * x0 + 3 * x1 + 7 * x2 >= 10\n",
    "dieta += 4 * x0 + 2 * x1 + 1 * x2 >= 15\n",
    "dieta += 1 * x0 + 8 * x1 + 1 * x2 >= 10\n",
    "dieta += 30 * x0 + 1 * x1 + 1 * x2 >= 2"
   ]
  },
  {
   "cell_type": "code",
   "execution_count": 6,
   "metadata": {},
   "outputs": [
    {
     "data": {
      "text/plain": [
       "Dieta:\n",
       "MINIMIZE\n",
       "20*x0 + 10*x1 + 10*x2 + 0\n",
       "SUBJECT TO\n",
       "_C1: 2 x0 + 3 x1 + 7 x2 >= 10\n",
       "\n",
       "_C2: 4 x0 + 2 x1 + x2 >= 15\n",
       "\n",
       "_C3: x0 + 8 x1 + x2 >= 10\n",
       "\n",
       "_C4: 30 x0 + x1 + x2 >= 2\n",
       "\n",
       "VARIABLES\n",
       "x0 Continuous\n",
       "x1 Continuous\n",
       "x2 Continuous"
      ]
     },
     "execution_count": 6,
     "metadata": {},
     "output_type": "execute_result"
    }
   ],
   "source": [
    "dieta"
   ]
  },
  {
   "cell_type": "code",
   "execution_count": 7,
   "metadata": {},
   "outputs": [
    {
     "data": {
      "text/plain": [
       "1"
      ]
     },
     "execution_count": 7,
     "metadata": {},
     "output_type": "execute_result"
    }
   ],
   "source": [
    "dieta.solve()"
   ]
  },
  {
   "cell_type": "code",
   "execution_count": 8,
   "metadata": {},
   "outputs": [
    {
     "data": {
      "text/plain": [
       "'Optimal'"
      ]
     },
     "execution_count": 8,
     "metadata": {},
     "output_type": "execute_result"
    }
   ],
   "source": [
    "pulp.LpStatus[dieta.status]"
   ]
  },
  {
   "cell_type": "code",
   "execution_count": 9,
   "metadata": {},
   "outputs": [
    {
     "name": "stdout",
     "output_type": "stream",
     "text": [
      "x0 = 3.125\n",
      "x1 = 1.25\n",
      "x2 = 0.0\n"
     ]
    }
   ],
   "source": [
    "for variable in dieta.variables():\n",
    "    print(\"{} = {}\".format(variable.name, variable.varValue))"
   ]
  },
  {
   "cell_type": "code",
   "execution_count": 10,
   "metadata": {},
   "outputs": [
    {
     "name": "stdout",
     "output_type": "stream",
     "text": [
      "75.0\n"
     ]
    }
   ],
   "source": [
    "print(pulp.value(dieta.objective))"
   ]
  }
 ],
 "metadata": {
  "kernelspec": {
   "display_name": "Python 3",
   "language": "python",
   "name": "python3"
  },
  "language_info": {
   "codemirror_mode": {
    "name": "ipython",
    "version": 3
   },
   "file_extension": ".py",
   "mimetype": "text/x-python",
   "name": "python",
   "nbconvert_exporter": "python",
   "pygments_lexer": "ipython3",
   "version": "3.7.1"
  }
 },
 "nbformat": 4,
 "nbformat_minor": 2
}
