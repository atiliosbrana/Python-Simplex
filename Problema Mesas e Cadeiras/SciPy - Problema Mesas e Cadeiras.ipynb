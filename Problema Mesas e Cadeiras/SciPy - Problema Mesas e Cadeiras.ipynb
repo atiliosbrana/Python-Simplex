{
 "cells": [
  {
   "cell_type": "code",
   "execution_count": 1,
   "metadata": {},
   "outputs": [],
   "source": [
    "Problema = '''\n",
    "Mesas - Lucro $90, 2 peças do tipo A e 2 do tipo B\n",
    "Cadeiras - Lucro $60, 2 peças do tipo A e 1 do tipo B\n",
    "Total disponível: 14 A e 8 B\n",
    "Max lucro\n",
    "\n",
    "qm = total mesas \n",
    "qc = total cadeiras\n",
    "L = lucro\n",
    "\n",
    "Max:\n",
    "L = qm * 90 + qc * 60\n",
    "\n",
    "qm * 2 + qc * 2 <= 14\n",
    "qm * 2 + qc <= 8\n",
    "\n",
    "'''"
   ]
  },
  {
   "cell_type": "code",
   "execution_count": 3,
   "metadata": {},
   "outputs": [],
   "source": [
    "import numpy as np\n",
    "import pandas as pd\n",
    "import scipy.optimize"
   ]
  },
  {
   "cell_type": "code",
   "execution_count": 4,
   "metadata": {},
   "outputs": [
    {
     "name": "stdout",
     "output_type": "stream",
     "text": [
      "Optimization terminated successfully.\n",
      "         Current function value: 450.000000  \n",
      "         Iterations: 2\n"
     ]
    },
    {
     "data": {
      "text/plain": [
       "     fun: 450.0\n",
       " message: 'Optimization terminated successfully.'\n",
       "     nit: 2\n",
       "   slack: array([0., 0.])\n",
       "  status: 0\n",
       " success: True\n",
       "       x: array([1., 6.])"
      ]
     },
     "execution_count": 4,
     "metadata": {},
     "output_type": "execute_result"
    }
   ],
   "source": [
    "z = np.array([90, 60])\n",
    "A = np.array([[-2, -2], [-2, -1]])\n",
    "B = np.array([-14, -8])\n",
    "X = [(0, None)] * 2\n",
    "scipy.optimize.linprog(z, A_ub = A, b_ub = B, bounds = X, method = 'simplex', options={\"disp\": True})"
   ]
  }
 ],
 "metadata": {
  "kernelspec": {
   "display_name": "Python 3",
   "language": "python",
   "name": "python3"
  },
  "language_info": {
   "codemirror_mode": {
    "name": "ipython",
    "version": 3
   },
   "file_extension": ".py",
   "mimetype": "text/x-python",
   "name": "python",
   "nbconvert_exporter": "python",
   "pygments_lexer": "ipython3",
   "version": "3.7.1"
  }
 },
 "nbformat": 4,
 "nbformat_minor": 2
}
