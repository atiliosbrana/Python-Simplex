{
 "cells": [
  {
   "cell_type": "code",
   "execution_count": 1,
   "metadata": {},
   "outputs": [],
   "source": [
    "Descricao = '''\n",
    "\n",
    "Mistura de óleos:\n",
    "Dois tipos de óleos vegetais: V1, V2,\n",
    "Três tipos de óleos não vegetais: NV1, NV2, NV3.\n",
    "\n",
    "Ao misturar os óleos é possível produzir um novo óleo. Tal óleo pode ser vendido por $150.\n",
    "\n",
    "Restrições:\n",
    "Máximo de 200 ton. de óleos vegetais / mês.\n",
    "Máximo de 250 ton. óleos não vegetais / mês.\n",
    "Acidez do óleo final deve estar entre 3 e 6.\n",
    "\n",
    "Objetivo: maximizar o lucro.\n",
    "\n",
    "Tabela:\n",
    "columns = 'V1 V2 NV1 NV2 NV3'\n",
    "index = 'Custo/ton Acidez'\n",
    "r1 = '110 120 130 110 115'\n",
    "r2 = '8.8 6.1 2.0 4.2 5.0'\n",
    "'''"
   ]
  },
  {
   "cell_type": "code",
   "execution_count": 2,
   "metadata": {},
   "outputs": [],
   "source": [
    "#Chamar livrarias necessárias para resolução\n",
    "import numpy as np\n",
    "import pandas as pd\n",
    "import scipy.optimize\n",
    "import pulp"
   ]
  },
  {
   "cell_type": "code",
   "execution_count": 3,
   "metadata": {},
   "outputs": [
    {
     "data": {
      "text/html": [
       "<div>\n",
       "<style scoped>\n",
       "    .dataframe tbody tr th:only-of-type {\n",
       "        vertical-align: middle;\n",
       "    }\n",
       "\n",
       "    .dataframe tbody tr th {\n",
       "        vertical-align: top;\n",
       "    }\n",
       "\n",
       "    .dataframe thead th {\n",
       "        text-align: right;\n",
       "    }\n",
       "</style>\n",
       "<table border=\"1\" class=\"dataframe\">\n",
       "  <thead>\n",
       "    <tr style=\"text-align: right;\">\n",
       "      <th></th>\n",
       "      <th>V1</th>\n",
       "      <th>V2</th>\n",
       "      <th>NV1</th>\n",
       "      <th>NV2</th>\n",
       "      <th>NV3</th>\n",
       "    </tr>\n",
       "  </thead>\n",
       "  <tbody>\n",
       "    <tr>\n",
       "      <th>Custo/ton</th>\n",
       "      <td>110.0</td>\n",
       "      <td>120.0</td>\n",
       "      <td>130.0</td>\n",
       "      <td>110.0</td>\n",
       "      <td>115.0</td>\n",
       "    </tr>\n",
       "    <tr>\n",
       "      <th>Acidez</th>\n",
       "      <td>8.8</td>\n",
       "      <td>6.1</td>\n",
       "      <td>2.0</td>\n",
       "      <td>4.2</td>\n",
       "      <td>5.0</td>\n",
       "    </tr>\n",
       "  </tbody>\n",
       "</table>\n",
       "</div>"
      ],
      "text/plain": [
       "              V1     V2    NV1    NV2    NV3\n",
       "Custo/ton  110.0  120.0  130.0  110.0  115.0\n",
       "Acidez       8.8    6.1    2.0    4.2    5.0"
      ]
     },
     "metadata": {},
     "output_type": "display_data"
    }
   ],
   "source": [
    "#Criar tabela\n",
    "columns = 'V1 V2 NV1 NV2 NV3'.split()\n",
    "index = 'Custo/ton Acidez'.split()\n",
    "custo = np.array([int(x) for x in '110 120 130 110 115'.split()])\n",
    "acidez = np.array([float(x) for x in '8.8 6.1 2.0 4.2 5.0'.split()])\n",
    "\n",
    "display(pd.DataFrame([custo, acidez], columns = columns, index = index))"
   ]
  },
  {
   "cell_type": "code",
   "execution_count": 4,
   "metadata": {},
   "outputs": [
    {
     "name": "stdout",
     "output_type": "stream",
     "text": [
      "z:\n",
      "\n",
      "[40 30 20 40 35]\n",
      "\n",
      "A:\n",
      "\n",
      "[array([-5.8, -3.1,  1. , -1.2, -2. ]), array([ 2.8,  0.1, -4. , -1.8, -1. ]), array([1, 1, 0, 0, 0]), array([0, 0, 1, 1, 1])]\n",
      "\n",
      "B:\n",
      "\n",
      "[  0   0 200 250]\n",
      "\n",
      "X:\n",
      "\n",
      "[(0, None), (0, None), (0, None), (0, None), (0, None)]\n",
      "Optimization terminated successfully.\n",
      "         Current function value: -17592.592593\n",
      "         Iterations: 4\n"
     ]
    },
    {
     "data": {
      "text/plain": [
       "     fun: -17592.592592592595\n",
       " message: 'Optimization terminated successfully.'\n",
       "     nit: 4\n",
       "   slack: array([1350.,    0.,    0.,    0.])\n",
       "  status: 0\n",
       " success: True\n",
       "       x: array([159.25925926,  40.74074074,   0.        , 250.        ,\n",
       "         0.        ])"
      ]
     },
     "execution_count": 4,
     "metadata": {},
     "output_type": "execute_result"
    }
   ],
   "source": [
    "#Resolução por SciPy\n",
    "z = 150 - custo\n",
    "A = [-(acidez - 3), acidez - 6, np.array([1, 1, 0, 0, 0]), np.array([0, 0, 1, 1, 1])]\n",
    "B = np.array([0, 0, 200, 250])\n",
    "X = [(0, None)] * 5\n",
    "\n",
    "print('z:', z, 'A:', A, 'B:', B, 'X:', X, sep = '\\n'*2)\n",
    "\n",
    "#Rodar otimizador:\n",
    "scipy.optimize.linprog(-z, A_ub = A, b_ub = B, bounds = X, method = 'simplex', options={\"disp\": True})"
   ]
  },
  {
   "cell_type": "code",
   "execution_count": 5,
   "metadata": {},
   "outputs": [],
   "source": [
    "#Solução: [159.25925926,  40.74074074,   0.        , 250.        ,0.        ]\n",
    "#Máximo: 17592.592592592595"
   ]
  },
  {
   "cell_type": "code",
   "execution_count": 6,
   "metadata": {},
   "outputs": [
    {
     "data": {
      "text/plain": [
       "Lucro:\n",
       "MAXIMIZE\n",
       "40*x0 + 30*x1 + 20*x2 + 40*x3 + 35*x4 + 0\n",
       "SUBJECT TO\n",
       "_C1: 5.8 x0 + 3.1 x1 - x2 + 1.2 x3 + 2 x4 >= 0\n",
       "\n",
       "_C2: 2.8 x0 + 0.1 x1 + 4 x2 - 1.8 x3 - x4 <= 0\n",
       "\n",
       "_C3: x0 + x1 <= 200\n",
       "\n",
       "_C4: x2 + x3 + x4 <= 250\n",
       "\n",
       "VARIABLES\n",
       "x0 Continuous\n",
       "x1 Continuous\n",
       "x2 Continuous\n",
       "x3 Continuous\n",
       "x4 Continuous"
      ]
     },
     "metadata": {},
     "output_type": "display_data"
    }
   ],
   "source": [
    "#Solução por PulP\n",
    "lucro = pulp.LpProblem('Lucro', pulp.LpMaximize)\n",
    "\n",
    "#Definir variáveis: quantidade de cada grão\n",
    "x0 = pulp.LpVariable('x0', lowBound=0, cat='Continuous')\n",
    "x1 = pulp.LpVariable('x1', lowBound=0, cat='Continuous')\n",
    "x2 = pulp.LpVariable('x2', lowBound=0, cat='Continuous')\n",
    "x3 = pulp.LpVariable('x3', lowBound=0, cat='Continuous')\n",
    "x4 = pulp.LpVariable('x4', lowBound=0, cat='Continuous')\n",
    "\n",
    "#Definir função objetivo\n",
    "lucro += 40 * x0 + 30 * x1 + 20 * x2 + 40 * x3 + 35 * x4\n",
    "\n",
    "#Definir restrições\n",
    "lucro += 5.8 * x0 + 3.1 * x1 + -1 * x2 + 1.2 * x3 + 2 * x4 >= 0\n",
    "lucro += 2.8 * x0 + 0.1 * x1 + 4 * x2 - 1.8 * x3 - 1 * x4 <= 0\n",
    "lucro += 1 * x0 + 1 * x1 <= 200\n",
    "lucro += 1 * x2 + 1 * x3 + 1 * x4 <= 250\n",
    "\n",
    "display(lucro)"
   ]
  },
  {
   "cell_type": "code",
   "execution_count": 7,
   "metadata": {},
   "outputs": [
    {
     "name": "stdout",
     "output_type": "stream",
     "text": [
      "x0 = 159.25926\n",
      "x1 = 40.740741\n",
      "x2 = 0.0\n",
      "x3 = 250.0\n",
      "x4 = 0.0\n",
      "17592.59263\n"
     ]
    }
   ],
   "source": [
    "#Resolução\n",
    "lucro.solve()\n",
    "\n",
    "pulp.LpStatus[lucro.status]\n",
    "\n",
    "for variable in lucro.variables():\n",
    "    print(\"{} = {}\".format(variable.name, variable.varValue))\n",
    "\n",
    "print(pulp.value(lucro.objective))"
   ]
  },
  {
   "cell_type": "code",
   "execution_count": 8,
   "metadata": {},
   "outputs": [],
   "source": [
    "#Mesma solução que SciPy"
   ]
  }
 ],
 "metadata": {
  "kernelspec": {
   "display_name": "Python 3",
   "language": "python",
   "name": "python3"
  },
  "language_info": {
   "codemirror_mode": {
    "name": "ipython",
    "version": 3
   },
   "file_extension": ".py",
   "mimetype": "text/x-python",
   "name": "python",
   "nbconvert_exporter": "python",
   "pygments_lexer": "ipython3",
   "version": "3.7.1"
  }
 },
 "nbformat": 4,
 "nbformat_minor": 2
}
